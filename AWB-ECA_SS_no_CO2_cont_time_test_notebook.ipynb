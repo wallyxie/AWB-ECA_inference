{
 "cells": [
  {
   "cell_type": "code",
   "execution_count": null,
   "id": "bb5cfb33",
   "metadata": {},
   "outputs": [],
   "source": [
    "# Hack to import from a parent directory\n",
    "import sys\n",
    "path = '..'\n",
    "if path not in sys.path:\n",
    "    sys.path.append(path)"
   ]
  },
  {
   "cell_type": "code",
   "execution_count": 1,
   "id": "b2a65995",
   "metadata": {},
   "outputs": [],
   "source": [
    "import stan\n",
    "import arviz\n",
    "\n",
    "#PyData imports\n",
    "import numpy as np\n",
    "import pandas as pd\n",
    "import matplotlib as plt"
   ]
  },
  {
   "cell_type": "code",
   "execution_count": null,
   "id": "6295d803",
   "metadata": {},
   "outputs": [],
   "source": [
    "#Data to be passed to Stan.\n",
    "\n",
    "temp_ref = 283\n",
    "temp_rise = 5 #High estimate of 5 celsius temperature rise by 2100.\n",
    "prior_scale_factor = 0.25\n",
    "obs_error_scale = 0.1\n",
    "\n",
    "#Parameter prior means\n",
    "u_Q_ref_mean = 0.25\n",
    "Q_mean = 0.001\n",
    "a_MSA_mean = 0.5\n",
    "K_DE_mean = 1000\n",
    "K_UE_mean = 0.1\n",
    "V_DE_ref_mean = 0.11\n",
    "V_UE_ref_mean = 0.0044\n",
    "Ea_V_DE_mean = 40\n",
    "Ea_V_UE_mean = 30\n",
    "r_M_mean = 0.0001667\n",
    "r_E_mean = 0.0002\n",
    "r_L_mean = 0.0004\n",
    "\n"
   ]
  }
 ],
 "metadata": {
  "kernelspec": {
   "display_name": "Python 3",
   "language": "python",
   "name": "python3"
  },
  "language_info": {
   "codemirror_mode": {
    "name": "ipython",
    "version": 3
   },
   "file_extension": ".py",
   "mimetype": "text/x-python",
   "name": "python",
   "nbconvert_exporter": "python",
   "pygments_lexer": "ipython3",
   "version": "3.9.7"
  }
 },
 "nbformat": 4,
 "nbformat_minor": 5
}
