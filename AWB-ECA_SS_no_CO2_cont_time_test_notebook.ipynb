{
 "cells": [
  {
   "cell_type": "code",
   "execution_count": null,
   "id": "4c968b28",
   "metadata": {},
   "outputs": [],
   "source": [
    "# Hack to import from a parent directory\n",
    "import sys\n",
    "path = '..'\n",
    "if path not in sys.path:\n",
    "    sys.path.append(path)"
   ]
  },
  {
   "cell_type": "code",
   "execution_count": null,
   "id": "dc12a8b8",
   "metadata": {},
   "outputs": [],
   "source": [
    "import stan\n",
    "import arviz\n",
    "import os\n",
    "\n",
    "#PyData imports\n",
    "import numpy as np\n",
    "import pandas as pd\n",
    "import matplotlib as plt"
   ]
  },
  {
   "cell_type": "code",
   "execution_count": null,
   "id": "1ddf4f0b",
   "metadata": {},
   "outputs": [],
   "source": [
    "#Data to be passed to Stan.\n",
    "state_dim = 4\n",
    "temp_ref = 283\n",
    "temp_rise = 5 #High estimate of 5 celsius temperature rise by 2100.\n",
    "prior_scale_factor = 0.25\n",
    "obs_error_scale = 0.1\n",
    "obs_every = 10 #Observations every 10 hours.\n",
    "t = 2000 #Total time span of ODE simulation.\n",
    "dt = 0.1 #Euler time step size corresponding to data generation. \n",
    "x_hat0 = [60.35767864, 5.16483124, 2.0068896, 0.99331202]\n",
    "y_full = pd.read_csv(os.path.join('generated_data/', 'SAWB-ECA-SS_no_CO2_trunc_short_2021_12_20_18_20_sample_det_y_t_2000_dt_0-01_sd_scale_0-25.csv'))\n",
    "y = y_full[y_full['hour'] <= t]\n",
    "y = np.array(y.drop(columns = 'hour')).tolist() #Convert data observations to list of lists to correspond to Stan's array of vectors type.\n",
    "ts = np.arange(0, t + dt, obs_every).tolist() #Convert array of observation times to list of hours. \n",
    "N_t = len(ts)\n",
    "\n",
    "#Parameter prior means\n",
    "u_Q_ref_mean = 0.25\n",
    "Q_mean = 0.001\n",
    "a_MSA_mean = 0.5\n",
    "K_DE_mean = 1000\n",
    "K_UE_mean = 0.1\n",
    "V_DE_ref_mean = 0.11\n",
    "V_UE_ref_mean = 0.0044\n",
    "Ea_V_DE_mean = 40\n",
    "Ea_V_UE_mean = 30\n",
    "r_M_mean = 0.0001667\n",
    "r_E_mean = 0.0002\n",
    "r_L_mean = 0.0004"
   ]
  },
  {
   "cell_type": "code",
   "execution_count": null,
   "id": "57d9d842",
   "metadata": {},
   "outputs": [],
   "source": [
    "data_dict = {\n",
    "    'state_dim': state_dim,\n",
    "    'N_t': N_t,\n",
    "    'ts': ts,\n",
    "    'y': y,\n",
    "    'temp_ref': temp_ref,\n",
    "    'temp_rise': temp_rise,\n",
    "    'prior_scale_factor': prior_scale_factor,\n",
    "    'obs_error_scale': obs_error_scale,\n",
    "    'x_hat0': x_hat0,\n",
    "    'u_Q_ref_mean': u_Q_ref_mean,\n",
    "    'Q_mean': Q_mean,\n",
    "    'a_MSA_mean': a_MSA_mean,\n",
    "    'K_DE_mean': K_DE_mean,\n",
    "    'K_UE_mean': K_UE_mean,\n",
    "    'V_DE_ref_mean': V_DE_ref_mean,\n",
    "    'V_UE_ref_mean': V_UE_ref_mean,\n",
    "    'Ea_V_DE_mean': Ea_V_DE_mean,\n",
    "    'Ea_V_UE_mean': Ea_V_UE_mean,\n",
    "    'r_M_mean': r_M_mean,\n",
    "    'r_E_mean': r_E_mean,\n",
    "    'r_L_mean': r_L_mean\n",
    "}"
   ]
  }
 ],
 "metadata": {
  "kernelspec": {
   "display_name": "Python 3",
   "language": "python",
   "name": "python3"
  },
  "language_info": {
   "codemirror_mode": {
    "name": "ipython",
    "version": 3
   },
   "file_extension": ".py",
   "mimetype": "text/x-python",
   "name": "python",
   "nbconvert_exporter": "python",
   "pygments_lexer": "ipython3",
   "version": "3.9.7"
  }
 },
 "nbformat": 4,
 "nbformat_minor": 5
}
